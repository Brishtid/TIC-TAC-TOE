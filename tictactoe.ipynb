{
 "cells": [
  {
   "cell_type": "code",
   "execution_count": 3,
   "id": "e1c7a053-7058-4781-96ed-d98194cb943d",
   "metadata": {},
   "outputs": [
    {
     "name": "stdout",
     "output_type": "stream",
     "text": [
      "Tic-Tac-Toe AI (X) vs Human (O)\n",
      "  |   |  \n",
      "---------\n",
      "  |   |  \n",
      "---------\n",
      "  |   |  \n",
      "---------\n",
      "AI plays:\n",
      "X |   |  \n",
      "---------\n",
      "  |   |  \n",
      "---------\n",
      "  |   |  \n",
      "---------\n"
     ]
    },
    {
     "name": "stdin",
     "output_type": "stream",
     "text": [
      "Enter row and column (0-2):  1 1\n"
     ]
    },
    {
     "name": "stdout",
     "output_type": "stream",
     "text": [
      "X |   |  \n",
      "---------\n",
      "  | O |  \n",
      "---------\n",
      "  |   |  \n",
      "---------\n",
      "AI plays:\n",
      "X | X |  \n",
      "---------\n",
      "  | O |  \n",
      "---------\n",
      "  |   |  \n",
      "---------\n"
     ]
    },
    {
     "name": "stdin",
     "output_type": "stream",
     "text": [
      "Enter row and column (0-2):  0 2\n"
     ]
    },
    {
     "name": "stdout",
     "output_type": "stream",
     "text": [
      "X | X | O\n",
      "---------\n",
      "  | O |  \n",
      "---------\n",
      "  |   |  \n",
      "---------\n",
      "AI plays:\n",
      "X | X | O\n",
      "---------\n",
      "  | O |  \n",
      "---------\n",
      "X |   |  \n",
      "---------\n"
     ]
    },
    {
     "name": "stdin",
     "output_type": "stream",
     "text": [
      "Enter row and column (0-2):  1 0\n"
     ]
    },
    {
     "name": "stdout",
     "output_type": "stream",
     "text": [
      "X | X | O\n",
      "---------\n",
      "O | O |  \n",
      "---------\n",
      "X |   |  \n",
      "---------\n",
      "AI plays:\n",
      "X | X | O\n",
      "---------\n",
      "O | O | X\n",
      "---------\n",
      "X |   |  \n",
      "---------\n"
     ]
    },
    {
     "name": "stdin",
     "output_type": "stream",
     "text": [
      "Enter row and column (0-2):  2 1\n"
     ]
    },
    {
     "name": "stdout",
     "output_type": "stream",
     "text": [
      "X | X | O\n",
      "---------\n",
      "O | O | X\n",
      "---------\n",
      "X | O |  \n",
      "---------\n",
      "AI plays:\n",
      "X | X | O\n",
      "---------\n",
      "O | O | X\n",
      "---------\n",
      "X | O | X\n",
      "---------\n",
      "It's a draw!\n"
     ]
    }
   ],
   "source": [
    "import math\n",
    "\n",
    "def print_board(board):\n",
    "    for row in board:\n",
    "        print(\" | \".join(row))\n",
    "        print(\"-\" * 9)\n",
    "\n",
    "def is_moves_left(board):\n",
    "    return any(cell == \" \" for row in board for cell in row)\n",
    "\n",
    "def evaluate(board):\n",
    "    for row in board:\n",
    "        if row[0] == row[1] == row[2] != \" \":\n",
    "            return 10 if row[0] == \"X\" else -10\n",
    "    \n",
    "    for col in range(3):\n",
    "        if board[0][col] == board[1][col] == board[2][col] != \" \":\n",
    "            return 10 if board[0][col] == \"X\" else -10\n",
    "    \n",
    "    if board[0][0] == board[1][1] == board[2][2] != \" \":\n",
    "        return 10 if board[0][0] == \"X\" else -10\n",
    "    \n",
    "    if board[0][2] == board[1][1] == board[2][0] != \" \":\n",
    "        return 10 if board[0][2] == \"X\" else -10\n",
    "    \n",
    "    return 0\n",
    "\n",
    "def minimax(board, depth, is_max, alpha, beta):\n",
    "    score = evaluate(board)\n",
    "    if score == 10 or score == -10:\n",
    "        return score - depth if score == 10 else score + depth\n",
    "    if not is_moves_left(board):\n",
    "        return 0\n",
    "    \n",
    "    if is_max:\n",
    "        best = -math.inf\n",
    "        for i in range(3):\n",
    "            for j in range(3):\n",
    "                if board[i][j] == \" \":\n",
    "                    board[i][j] = \"X\"\n",
    "                    best = max(best, minimax(board, depth + 1, False, alpha, beta))\n",
    "                    board[i][j] = \" \"\n",
    "                    alpha = max(alpha, best)\n",
    "                    if beta <= alpha:\n",
    "                        break\n",
    "        return best\n",
    "    else:\n",
    "        best = math.inf\n",
    "        for i in range(3):\n",
    "            for j in range(3):\n",
    "                if board[i][j] == \" \":\n",
    "                    board[i][j] = \"O\"\n",
    "                    best = min(best, minimax(board, depth + 1, True, alpha, beta))\n",
    "                    board[i][j] = \" \"\n",
    "                    beta = min(beta, best)\n",
    "                    if beta <= alpha:\n",
    "                        break\n",
    "        return best\n",
    "\n",
    "def find_best_move(board):\n",
    "    best_val = -math.inf\n",
    "    best_move = (-1, -1)\n",
    "    \n",
    "    for i in range(3):\n",
    "        for j in range(3):\n",
    "            if board[i][j] == \" \":\n",
    "                board[i][j] = \"X\"\n",
    "                move_val = minimax(board, 0, False, -math.inf, math.inf)\n",
    "                board[i][j] = \" \"\n",
    "                if move_val > best_val:\n",
    "                    best_val = move_val\n",
    "                    best_move = (i, j)\n",
    "    return best_move\n",
    "\n",
    "def main():\n",
    "    board = [[\" \" for _ in range(3)] for _ in range(3)]\n",
    "    print(\"Tic-Tac-Toe AI (X) vs Human (O)\")\n",
    "    print_board(board)\n",
    "    \n",
    "    for _ in range(9):\n",
    "        if not is_moves_left(board) or evaluate(board) != 0:\n",
    "            break\n",
    "        \n",
    "        if _ % 2 == 0:\n",
    "            row, col = find_best_move(board)\n",
    "            board[row][col] = \"X\"\n",
    "            print(\"AI plays:\")\n",
    "        else:\n",
    "            row, col = map(int, input(\"Enter row and column (0-2): \").split())\n",
    "            if board[row][col] == \" \":\n",
    "                board[row][col] = \"O\"\n",
    "            else:\n",
    "                print(\"Invalid move, try again.\")\n",
    "                continue\n",
    "        print_board(board)\n",
    "        \n",
    "        if evaluate(board) == 10:\n",
    "            print(\"AI wins!\")\n",
    "            return\n",
    "        elif evaluate(board) == -10:\n",
    "            print(\"You win!\")\n",
    "            return\n",
    "    \n",
    "    print(\"It's a draw!\")\n",
    "\n",
    "if __name__ == \"__main__\":\n",
    "    main()"
   ]
  },
  {
   "cell_type": "code",
   "execution_count": null,
   "id": "3bba945e-014f-43f3-beb8-85e8cb56ac51",
   "metadata": {},
   "outputs": [],
   "source": []
  }
 ],
 "metadata": {
  "kernelspec": {
   "display_name": "Python 3 (ipykernel)",
   "language": "python",
   "name": "python3"
  },
  "language_info": {
   "codemirror_mode": {
    "name": "ipython",
    "version": 3
   },
   "file_extension": ".py",
   "mimetype": "text/x-python",
   "name": "python",
   "nbconvert_exporter": "python",
   "pygments_lexer": "ipython3",
   "version": "3.12.3"
  }
 },
 "nbformat": 4,
 "nbformat_minor": 5
}
